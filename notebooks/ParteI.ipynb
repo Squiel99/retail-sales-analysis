{
 "cells": [
  {
   "cell_type": "code",
   "execution_count": null,
   "metadata": {},
   "outputs": [],
   "source": [
    "import numpy as np\n",
    "def cargar_datos(ruta_archivo):\n",
    "    # Carga los datos del archivo CSV utilizando NumPy\n",
    "    datos = np.genfromtxt(ruta_archivo, delimiter=',', skip_header=1, dtype=None)\n",
    "    return datos\n",
    "\n",
    "if __name__ == \"__main__\":\n",
    "    ruta_archivo = '../data/retail_sales_dataset.csv'\n",
    "    datos = cargar_datos(ruta_archivo)\n",
    "    print(datos)"
   ]
  },
  {
   "cell_type": "code",
   "execution_count": 23,
   "metadata": {},
   "outputs": [
    {
     "data": {
      "text/plain": [
       "(array([0, 0, 0, 0, 0]), array([0, 0, 0, 0]))"
      ]
     },
     "execution_count": 23,
     "metadata": {},
     "output_type": "execute_result"
    }
   ],
   "source": [
    "#Fuente: ChatGPT 4o\n",
    "# Verificar valores faltantes en las columnas del dataset cargado\n",
    "valores_faltantes_num = np.array([np.isnan(datos[col]).sum() for col in datos.dtype.names if np.issubdtype(datos[col].dtype, np.number)])\n",
    "\n",
    "# Verificar valores faltantes en columnas de texto (comparando con cadenas vacías)\n",
    "valores_faltantes_text = np.array([(datos[col] == '').sum() for col in datos.dtype.names if np.issubdtype(datos[col].dtype, np.str_)])\n",
    "\n",
    "valores_faltantes_num, valores_faltantes_text\n",
    "\n"
   ]
  },
  {
   "cell_type": "markdown",
   "metadata": {},
   "source": [
    "Del Bloque anterior nos damos cuenta que no existen valores faltantes"
   ]
  },
  {
   "cell_type": "code",
   "execution_count": 41,
   "metadata": {},
   "outputs": [
    {
     "name": "stdout",
     "output_type": "stream",
     "text": [
      "Las categorias de productors son ['Beauty' 'Clothing' 'Electronics']\n",
      "Total de ventastas por categoria: {np.str_('Beauty'): np.int64(143515), np.str_('Clothing'): np.int64(155580), np.str_('Electronics'): np.int64(156905)} \n",
      "Promedio de ventas por categoria: {np.str_('Beauty'): np.float64(467.4755700325733), np.str_('Clothing'): np.float64(443.2478632478632), np.str_('Electronics'): np.float64(458.7865497076023)}\n",
      "Categoria con mayores ventas Electronics\n",
      "Categoria con menores ventas Beauty\n"
     ]
    }
   ],
   "source": [
    "#Obtenemos todas las categorias de productos que hay\n",
    "categorias = np.unique(datos['f5'])\n",
    "print(f\"Las categorias de productors son {categorias}\")\n",
    "total_ventas_por_categoria = {}\n",
    "promedio_ventas_por_categoria = {}\n",
    "for categoria in categorias:\n",
    "    ventas_categoria = datos[datos['f5'] == categoria]['f8'] #array de una columna donde se encuentra el monto total de todas las ventas de esa categoria de producto\n",
    "    total_ventas_por_categoria[categoria] = np.sum(ventas_categoria) #suma de todas las ventas de esa categoria\n",
    "    promedio_ventas_por_categoria[categoria] = np.mean(ventas_categoria) #promedio de todas las ventas de esa categoria\n",
    "print(f\"Total de ventastas por categoria: {total_ventas_por_categoria} \\nPromedio de ventas por categoria: {promedio_ventas_por_categoria}\")\n",
    "#Debemos convertir los diccionarios a arrays para operar con ellos\n",
    "categorias_array = np.unique(datos['f5']) #Array con las categorias\n",
    "ventas_totales_array = np.array(list(total_ventas_por_categoria.values())) #Array con las ventas totales\n",
    "categoria_max_ventas = categorias_array[np.argmax(ventas_totales_array)] #Filtramos la categoria de la venta total maxima\n",
    "categoria_min_ventas = categorias_array[np.argmin(ventas_totales_array)] #Filtramos la categoria de la venta total minima\n",
    "print(f\"Categoria con mayores ventas: {categoria_max_ventas}\")\n",
    "print(f\"Categoria con menores ventas: {categoria_min_ventas}\")\n"
   ]
  },
  {
   "cell_type": "code",
   "execution_count": 46,
   "metadata": {},
   "outputs": [
    {
     "name": "stdout",
     "output_type": "stream",
     "text": [
      "Total de ventas para Beauty: 771\n",
      "Total de ventas para Clothing: 894\n",
      "Total de ventas para Electronics: 849\n",
      "Promedio de unidades vendidas por venta para Beauty: 2.511400651465798\n",
      "Promedio de unidades vendidas por venta para Clothing: 2.547008547008547\n",
      "Promedio de unidades vendidas por venta para Electronics: 2.482456140350877\n",
      "Porcentaje de ventas para Beauty: 31.47%\n",
      "Porcentaje de ventas para Clothing: 34.12%\n",
      "Porcentaje de ventas para Electronics: 34.41%\n"
     ]
    }
   ],
   "source": [
    "# Suma total de unidades vendidas por categoría\n",
    "for categoria in np.unique(datos['f5']):\n",
    "    ventas_categoria = datos[datos['f5'] == categoria]['f6']\n",
    "    total_ventas = np.sum(ventas_categoria)\n",
    "    print(f\"Total de ventas para {categoria}: {total_ventas}\")\n",
    "# Promedio de unidades vendidas por categoría\n",
    "for categoria in np.unique(datos['f5']):\n",
    "    ventas_categoria = datos[datos['f5'] == categoria]['f6']\n",
    "    total_ventas = np.sum(ventas_categoria)\n",
    "    numero_de_ventas = len(ventas_categoria)\n",
    "    promedio_ventas = total_ventas / numero_de_ventas\n",
    "    print(f\"Promedio de unidades vendidas por venta para {categoria}: {promedio_ventas}\")\n",
    "# Porcentaje de ventas de cada categoría respecto al total\n",
    "ventas_totales = np.sum(datos['f8'])  # Suma de todas las ventas\n",
    "for categoria in np.unique(datos['f5']):\n",
    "    ventas_categoria = np.sum(datos[datos['f5'] == categoria]['f8'])\n",
    "    porcentaje_ventas = (ventas_categoria / ventas_totales) * 100  # Porcentaje\n",
    "    print(f\"Porcentaje de ventas para {categoria}: {porcentaje_ventas:.2f}%\")"
   ]
  }
 ],
 "metadata": {
  "kernelspec": {
   "display_name": "Python 3",
   "language": "python",
   "name": "python3"
  },
  "language_info": {
   "codemirror_mode": {
    "name": "ipython",
    "version": 3
   },
   "file_extension": ".py",
   "mimetype": "text/x-python",
   "name": "python",
   "nbconvert_exporter": "python",
   "pygments_lexer": "ipython3",
   "version": "3.9.13"
  }
 },
 "nbformat": 4,
 "nbformat_minor": 2
}
